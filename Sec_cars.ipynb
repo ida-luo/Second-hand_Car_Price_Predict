{
 "cells": [
  {
   "cell_type": "markdown",
   "metadata": {},
   "source": [
    "# 线性回归预测二手车售价"
   ]
  },
  {
   "cell_type": "markdown",
   "metadata": {},
   "source": [
    "## 本项目的基本框架：\n",
    "1. 定义问题\n",
    "2. 收集数据\n",
    "3. 数据清洗\n",
    "4. 数据分析及可视化\n",
    "5. 训练线性回归模型"
   ]
  },
  {
   "cell_type": "markdown",
   "metadata": {},
   "source": [
    "# 1. 二手车市场是非常庞大且活跃的,每天都有很多成功的交易达成.不仅如此,二手车信息也受到很多购车人士的重视.  \n",
    "本次项目,主要讨论以下两个问题:\n",
    "- 二手车的定价和哪些因素有关?\n",
    "- 如何在二手车数据集上训练线性回归模型."
   ]
  },
  {
   "cell_type": "markdown",
   "metadata": {},
   "source": [
    "# 2. 使用爬虫从淘车网采集广州地区的二手车交易信息\n",
    "囿于篇幅,这里仅提供爬虫的基本思路:\n",
    "- 设置Agent等头部信息，防止被反爬虫机制拦截\n",
    "- 抓取二手车品牌名称及对应的链接\n",
    "- 在元素检查模式下找到剩余所需信息的链接\n",
    "- 拼接完整链接,对所有链接发送请求\n",
    "- 发送抓取链接的请求并解析数据\n",
    "- 导出并储存数据\n",
    "\n",
    "## 下面导入数据,并查看一下大致信息:"
   ]
  },
  {
   "cell_type": "code",
   "execution_count": 1,
   "metadata": {
    "collapsed": true
   },
   "outputs": [],
   "source": [
    "#-*-utf-8-*-\n",
    "import numpy as np\n",
    "import pandas as pd"
   ]
  },
  {
   "cell_type": "code",
   "execution_count": 2,
   "metadata": {
    "collapsed": true
   },
   "outputs": [],
   "source": [
    "sec_cars = pd.read_csv('sec_cars.csv',encoding='gbk')  #对于中文内容的数据,不能用utf-8解码,需要使用gbk中文解码"
   ]
  },
  {
   "cell_type": "code",
   "execution_count": 3,
   "metadata": {
    "collapsed": true
   },
   "outputs": [],
   "source": [
    "#为了不\"弄坏\"原始数据,我们做一份备份\n",
    "data = sec_cars.copy()"
   ]
  },
  {
   "cell_type": "code",
   "execution_count": 4,
   "metadata": {},
   "outputs": [
    {
     "name": "stdout",
     "output_type": "stream",
     "text": [
      "<class 'pandas.core.frame.DataFrame'>\n",
      "RangeIndex: 597 entries, 0 to 596\n",
      "Data columns (total 7 columns):\n",
      "Brand            597 non-null object\n",
      "Name             597 non-null object\n",
      "Boarding_time    597 non-null object\n",
      "Km               597 non-null object\n",
      "Discharge        597 non-null object\n",
      "New_price        597 non-null object\n",
      "Sec_price        597 non-null float64\n",
      "dtypes: float64(1), object(6)\n",
      "memory usage: 32.7+ KB\n"
     ]
    }
   ],
   "source": [
    "#先看看数据的大致信息\n",
    "data.info()"
   ]
  },
  {
   "cell_type": "code",
   "execution_count": 5,
   "metadata": {},
   "outputs": [
    {
     "data": {
      "text/html": [
       "<div>\n",
       "<style>\n",
       "    .dataframe thead tr:only-child th {\n",
       "        text-align: right;\n",
       "    }\n",
       "\n",
       "    .dataframe thead th {\n",
       "        text-align: left;\n",
       "    }\n",
       "\n",
       "    .dataframe tbody tr th {\n",
       "        vertical-align: top;\n",
       "    }\n",
       "</style>\n",
       "<table border=\"1\" class=\"dataframe\">\n",
       "  <thead>\n",
       "    <tr style=\"text-align: right;\">\n",
       "      <th></th>\n",
       "      <th>Brand</th>\n",
       "      <th>Name</th>\n",
       "      <th>Boarding_time</th>\n",
       "      <th>Km</th>\n",
       "      <th>Discharge</th>\n",
       "      <th>New_price</th>\n",
       "      <th>Sec_price</th>\n",
       "    </tr>\n",
       "  </thead>\n",
       "  <tbody>\n",
       "    <tr>\n",
       "      <th>432</th>\n",
       "      <td>马自达</td>\n",
       "      <td>马自达6 2008款 轿跑 2.0L 运动型</td>\n",
       "      <td>2008年5月</td>\n",
       "      <td>7.40万公里</td>\n",
       "      <td>国3</td>\n",
       "      <td>21.04万</td>\n",
       "      <td>5.25</td>\n",
       "    </tr>\n",
       "    <tr>\n",
       "      <th>323</th>\n",
       "      <td>马自达</td>\n",
       "      <td>马自达6 2007款 2.0L 手自一体豪华型</td>\n",
       "      <td>2006年12月</td>\n",
       "      <td>7.60万公里</td>\n",
       "      <td>国4</td>\n",
       "      <td>20.60万</td>\n",
       "      <td>4.40</td>\n",
       "    </tr>\n",
       "    <tr>\n",
       "      <th>332</th>\n",
       "      <td>马自达</td>\n",
       "      <td>马自达6 2008款 轿跑 2.0L 豪华型</td>\n",
       "      <td>2008年8月</td>\n",
       "      <td>6.60万公里</td>\n",
       "      <td>国3</td>\n",
       "      <td>22.77万</td>\n",
       "      <td>4.80</td>\n",
       "    </tr>\n",
       "    <tr>\n",
       "      <th>400</th>\n",
       "      <td>马自达</td>\n",
       "      <td>马自达6 2011款 2.0L时尚</td>\n",
       "      <td>2010年10月</td>\n",
       "      <td>8.00万公里</td>\n",
       "      <td>国4</td>\n",
       "      <td>19.52万</td>\n",
       "      <td>7.30</td>\n",
       "    </tr>\n",
       "    <tr>\n",
       "      <th>17</th>\n",
       "      <td>本田</td>\n",
       "      <td>雅阁 2007款 2.0L 手动普通版</td>\n",
       "      <td>2006年6月</td>\n",
       "      <td>15.00万公里</td>\n",
       "      <td>国4</td>\n",
       "      <td>21.69万</td>\n",
       "      <td>3.28</td>\n",
       "    </tr>\n",
       "  </tbody>\n",
       "</table>\n",
       "</div>"
      ],
      "text/plain": [
       "    Brand                     Name Boarding_time        Km Discharge  \\\n",
       "432   马自达   马自达6 2008款 轿跑 2.0L 运动型       2008年5月   7.40万公里        国3   \n",
       "323   马自达  马自达6 2007款 2.0L 手自一体豪华型      2006年12月   7.60万公里        国4   \n",
       "332   马自达   马自达6 2008款 轿跑 2.0L 豪华型       2008年8月   6.60万公里        国3   \n",
       "400   马自达        马自达6 2011款 2.0L时尚      2010年10月   8.00万公里        国4   \n",
       "17     本田      雅阁 2007款 2.0L 手动普通版       2006年6月  15.00万公里        国4   \n",
       "\n",
       "    New_price  Sec_price  \n",
       "432    21.04万       5.25  \n",
       "323    20.60万       4.40  \n",
       "332    22.77万       4.80  \n",
       "400    19.52万       7.30  \n",
       "17     21.69万       3.28  "
      ]
     },
     "execution_count": 5,
     "metadata": {},
     "output_type": "execute_result"
    }
   ],
   "source": [
    "data.sample(5)"
   ]
  },
  {
   "cell_type": "markdown",
   "metadata": {},
   "source": [
    "数据总共有597条,而且看起来十分完美,没有缺失值?!真的是这样吗?"
   ]
  },
  {
   "cell_type": "markdown",
   "metadata": {},
   "source": [
    "我们看2条数据,特征Km中有**\"百公里内\"**这种不规则数据,Discharge中有缺失值(**\"--\"**),New_price也有缺失值(**\"暂无\"**)"
   ]
  },
  {
   "cell_type": "code",
   "execution_count": 6,
   "metadata": {},
   "outputs": [
    {
     "data": {
      "text/html": [
       "<div>\n",
       "<style>\n",
       "    .dataframe thead tr:only-child th {\n",
       "        text-align: right;\n",
       "    }\n",
       "\n",
       "    .dataframe thead th {\n",
       "        text-align: left;\n",
       "    }\n",
       "\n",
       "    .dataframe tbody tr th {\n",
       "        vertical-align: top;\n",
       "    }\n",
       "</style>\n",
       "<table border=\"1\" class=\"dataframe\">\n",
       "  <thead>\n",
       "    <tr style=\"text-align: right;\">\n",
       "      <th></th>\n",
       "      <th>Brand</th>\n",
       "      <th>Name</th>\n",
       "      <th>Boarding_time</th>\n",
       "      <th>Km</th>\n",
       "      <th>Discharge</th>\n",
       "      <th>New_price</th>\n",
       "      <th>Sec_price</th>\n",
       "    </tr>\n",
       "  </thead>\n",
       "  <tbody>\n",
       "    <tr>\n",
       "      <th>16</th>\n",
       "      <td>本田</td>\n",
       "      <td>雅阁 2015款 2.0L LX 舒适版</td>\n",
       "      <td>2017年4月</td>\n",
       "      <td>百公里内</td>\n",
       "      <td>国5</td>\n",
       "      <td>19.52万</td>\n",
       "      <td>16.15</td>\n",
       "    </tr>\n",
       "  </tbody>\n",
       "</table>\n",
       "</div>"
      ],
      "text/plain": [
       "   Brand                  Name Boarding_time    Km Discharge New_price  \\\n",
       "16    本田  雅阁 2015款 2.0L LX 舒适版       2017年4月  百公里内        国5    19.52万   \n",
       "\n",
       "    Sec_price  \n",
       "16      16.15  "
      ]
     },
     "execution_count": 6,
     "metadata": {},
     "output_type": "execute_result"
    }
   ],
   "source": [
    "data.iloc[16:17,:]"
   ]
  },
  {
   "cell_type": "code",
   "execution_count": 7,
   "metadata": {},
   "outputs": [
    {
     "data": {
      "text/html": [
       "<div>\n",
       "<style>\n",
       "    .dataframe thead tr:only-child th {\n",
       "        text-align: right;\n",
       "    }\n",
       "\n",
       "    .dataframe thead th {\n",
       "        text-align: left;\n",
       "    }\n",
       "\n",
       "    .dataframe tbody tr th {\n",
       "        vertical-align: top;\n",
       "    }\n",
       "</style>\n",
       "<table border=\"1\" class=\"dataframe\">\n",
       "  <thead>\n",
       "    <tr style=\"text-align: right;\">\n",
       "      <th></th>\n",
       "      <th>Brand</th>\n",
       "      <th>Name</th>\n",
       "      <th>Boarding_time</th>\n",
       "      <th>Km</th>\n",
       "      <th>Discharge</th>\n",
       "      <th>New_price</th>\n",
       "      <th>Sec_price</th>\n",
       "    </tr>\n",
       "  </thead>\n",
       "  <tbody>\n",
       "    <tr>\n",
       "      <th>232</th>\n",
       "      <td>金杯</td>\n",
       "      <td>阁瑞斯 2010款 睿翔 2.0L 手动 舒适型 短轴7座</td>\n",
       "      <td>2010年9月</td>\n",
       "      <td>8.00万公里</td>\n",
       "      <td>--</td>\n",
       "      <td>暂无</td>\n",
       "      <td>3.58</td>\n",
       "    </tr>\n",
       "  </tbody>\n",
       "</table>\n",
       "</div>"
      ],
      "text/plain": [
       "    Brand                           Name Boarding_time       Km Discharge  \\\n",
       "232    金杯  阁瑞斯 2010款 睿翔 2.0L 手动 舒适型 短轴7座       2010年9月  8.00万公里        --   \n",
       "\n",
       "    New_price  Sec_price  \n",
       "232        暂无       3.58  "
      ]
     },
     "execution_count": 7,
     "metadata": {},
     "output_type": "execute_result"
    }
   ],
   "source": [
    "data.iloc[232:233,:]"
   ]
  },
  {
   "cell_type": "markdown",
   "metadata": {},
   "source": [
    "#### 前面之所以pandas没有识别出缺失值,是因为原始数据的缺失值不是np.nan格式的"
   ]
  },
  {
   "cell_type": "markdown",
   "metadata": {},
   "source": [
    "# 3. 数据清洗"
   ]
  },
  {
   "cell_type": "markdown",
   "metadata": {},
   "source": [
    "## 3.1 处理缺失值\n",
    "- 对于驾驶里程,\"百公里内\"的数据直接替换成100公里,这是比较合理的选择\n",
    "- 对于上牌时间和新车价格缺失的,直接从数据集中删除,因为即使用其他值填补,也很难保证是一个好的估计,反而会影响后续的模型训练准确性"
   ]
  },
  {
   "cell_type": "code",
   "execution_count": 8,
   "metadata": {
    "collapsed": true
   },
   "outputs": [],
   "source": [
    "data = data.replace('百公里内','0.01万公里')  #直接替换成0.01万公里,方便后续对整列处理"
   ]
  },
  {
   "cell_type": "code",
   "execution_count": 9,
   "metadata": {
    "collapsed": true
   },
   "outputs": [],
   "source": [
    "data = data.replace(['--','暂无'],np.nan)  #把缺失值替换成pandas能识别的符号"
   ]
  },
  {
   "cell_type": "code",
   "execution_count": 10,
   "metadata": {
    "collapsed": true
   },
   "outputs": [],
   "source": [
    "data.dropna(how='any',inplace=True)  #任何一行,只要有缺失值(其实也只有Discharge和New_price这两列),就地删除该数据"
   ]
  },
  {
   "cell_type": "code",
   "execution_count": 11,
   "metadata": {},
   "outputs": [
    {
     "name": "stdout",
     "output_type": "stream",
     "text": [
      "<class 'pandas.core.frame.DataFrame'>\n",
      "Int64Index: 557 entries, 0 to 596\n",
      "Data columns (total 7 columns):\n",
      "Brand            557 non-null object\n",
      "Name             557 non-null object\n",
      "Boarding_time    557 non-null object\n",
      "Km               557 non-null object\n",
      "Discharge        557 non-null object\n",
      "New_price        557 non-null object\n",
      "Sec_price        557 non-null float64\n",
      "dtypes: float64(1), object(6)\n",
      "memory usage: 34.8+ KB\n"
     ]
    }
   ],
   "source": [
    "data.info()  #剩下的数据中没有缺失值"
   ]
  },
  {
   "cell_type": "code",
   "execution_count": 12,
   "metadata": {
    "collapsed": true
   },
   "outputs": [],
   "source": [
    "data = data.reset_index(drop=True)  #重新排列一下索引"
   ]
  },
  {
   "cell_type": "markdown",
   "metadata": {},
   "source": [
    "## 3.2 处理含有中文的数据"
   ]
  },
  {
   "cell_type": "code",
   "execution_count": 13,
   "metadata": {
    "collapsed": true
   },
   "outputs": [],
   "source": [
    "#使用python的str方法,创建一个字符串筛选器,然后用map方法作用到整列\n",
    "data.New_price = data.New_price.map(lambda x:str(x)[:-1])  #去掉\"万\"\n",
    "data.Km = data.Km.map(lambda x:str(x)[:-3])  #去掉\"万公里\""
   ]
  },
  {
   "cell_type": "code",
   "execution_count": 14,
   "metadata": {
    "collapsed": true
   },
   "outputs": [],
   "source": [
    "#把上面得到的\"干净的\"字符串数据转成数字型数据\n",
    "data[['New_price','Km']] = data[['New_price','Km']].apply(pd.to_numeric)"
   ]
  },
  {
   "cell_type": "code",
   "execution_count": 15,
   "metadata": {
    "collapsed": true
   },
   "outputs": [],
   "source": [
    "#把原数量单位从以万计转成单位计量,如万元==>元;万公里==>公里\n",
    "data[['New_price','Sec_price','Km']] = data[['New_price','Sec_price','Km']].apply(lambda x: x *10000.0)"
   ]
  },
  {
   "cell_type": "code",
   "execution_count": 16,
   "metadata": {},
   "outputs": [
    {
     "data": {
      "text/html": [
       "<div>\n",
       "<style>\n",
       "    .dataframe thead tr:only-child th {\n",
       "        text-align: right;\n",
       "    }\n",
       "\n",
       "    .dataframe thead th {\n",
       "        text-align: left;\n",
       "    }\n",
       "\n",
       "    .dataframe tbody tr th {\n",
       "        vertical-align: top;\n",
       "    }\n",
       "</style>\n",
       "<table border=\"1\" class=\"dataframe\">\n",
       "  <thead>\n",
       "    <tr style=\"text-align: right;\">\n",
       "      <th></th>\n",
       "      <th>Brand</th>\n",
       "      <th>Name</th>\n",
       "      <th>Boarding_time</th>\n",
       "      <th>Km</th>\n",
       "      <th>Discharge</th>\n",
       "      <th>New_price</th>\n",
       "      <th>Sec_price</th>\n",
       "    </tr>\n",
       "  </thead>\n",
       "  <tbody>\n",
       "    <tr>\n",
       "      <th>351</th>\n",
       "      <td>马自达</td>\n",
       "      <td>马自达6 2008款 轿跑 2.0L 运动型</td>\n",
       "      <td>2009年5月</td>\n",
       "      <td>70000.0</td>\n",
       "      <td>国3</td>\n",
       "      <td>210400.0</td>\n",
       "      <td>56700.0</td>\n",
       "    </tr>\n",
       "    <tr>\n",
       "      <th>228</th>\n",
       "      <td>金杯</td>\n",
       "      <td>阁瑞斯 2011款 睿翔 2.0L 豪华型 手动 标准顶 长轴 9座</td>\n",
       "      <td>2011年12月</td>\n",
       "      <td>68000.0</td>\n",
       "      <td>国4</td>\n",
       "      <td>174500.0</td>\n",
       "      <td>41800.0</td>\n",
       "    </tr>\n",
       "    <tr>\n",
       "      <th>263</th>\n",
       "      <td>马自达</td>\n",
       "      <td>马自达6 2008款 轿跑 2.0L 豪华型</td>\n",
       "      <td>2008年8月</td>\n",
       "      <td>68000.0</td>\n",
       "      <td>国3</td>\n",
       "      <td>227700.0</td>\n",
       "      <td>45000.0</td>\n",
       "    </tr>\n",
       "  </tbody>\n",
       "</table>\n",
       "</div>"
      ],
      "text/plain": [
       "    Brand                                Name Boarding_time       Km  \\\n",
       "351   马自达              马自达6 2008款 轿跑 2.0L 运动型       2009年5月  70000.0   \n",
       "228    金杯  阁瑞斯 2011款 睿翔 2.0L 豪华型 手动 标准顶 长轴 9座      2011年12月  68000.0   \n",
       "263   马自达              马自达6 2008款 轿跑 2.0L 豪华型       2008年8月  68000.0   \n",
       "\n",
       "    Discharge  New_price  Sec_price  \n",
       "351        国3   210400.0    56700.0  \n",
       "228        国4   174500.0    41800.0  \n",
       "263        国3   227700.0    45000.0  "
      ]
     },
     "execution_count": 16,
     "metadata": {},
     "output_type": "execute_result"
    }
   ],
   "source": [
    "data.sample(3)"
   ]
  },
  {
   "cell_type": "markdown",
   "metadata": {},
   "source": [
    "## 3.3 验证数据的正确性\n",
    "- 如果New_price < Sec_price,则数据肯定是错误的.试问,二手车价格比新车还贵,谁还买二手车呢?"
   ]
  },
  {
   "cell_type": "code",
   "execution_count": 17,
   "metadata": {
    "collapsed": true
   },
   "outputs": [],
   "source": [
    "#pandas的列之间不能直接作差,因此使用Series的矢量运算\n",
    "series1 = data.iloc[:,5]\n",
    "series2 = data.iloc[:,6]\n",
    "series = series1 - series2"
   ]
  },
  {
   "cell_type": "code",
   "execution_count": 18,
   "metadata": {
    "scrolled": false
   },
   "outputs": [
    {
     "data": {
      "text/plain": [
       "134    -6500.0\n",
       "206     1400.0\n",
       "205     1400.0\n",
       "135     2700.0\n",
       "181    22400.0\n",
       "dtype: float64"
      ]
     },
     "execution_count": 18,
     "metadata": {},
     "output_type": "execute_result"
    }
   ],
   "source": [
    "series.sort_values().head()  #将所得到的结果按升序排列,返回最小的5个值"
   ]
  },
  {
   "cell_type": "markdown",
   "metadata": {},
   "source": [
    "竟然真的有这样的**错误数据**存在,让我们看看是哪一条数据:"
   ]
  },
  {
   "cell_type": "code",
   "execution_count": 19,
   "metadata": {},
   "outputs": [
    {
     "data": {
      "text/html": [
       "<div>\n",
       "<style>\n",
       "    .dataframe thead tr:only-child th {\n",
       "        text-align: right;\n",
       "    }\n",
       "\n",
       "    .dataframe thead th {\n",
       "        text-align: left;\n",
       "    }\n",
       "\n",
       "    .dataframe tbody tr th {\n",
       "        vertical-align: top;\n",
       "    }\n",
       "</style>\n",
       "<table border=\"1\" class=\"dataframe\">\n",
       "  <thead>\n",
       "    <tr style=\"text-align: right;\">\n",
       "      <th></th>\n",
       "      <th>Brand</th>\n",
       "      <th>Name</th>\n",
       "      <th>Boarding_time</th>\n",
       "      <th>Km</th>\n",
       "      <th>Discharge</th>\n",
       "      <th>New_price</th>\n",
       "      <th>Sec_price</th>\n",
       "    </tr>\n",
       "  </thead>\n",
       "  <tbody>\n",
       "    <tr>\n",
       "      <th>134</th>\n",
       "      <td>丰田</td>\n",
       "      <td>丰田86 2017款 2.0L 手动 豪华型</td>\n",
       "      <td>2017年4月</td>\n",
       "      <td>6000.0</td>\n",
       "      <td>国5</td>\n",
       "      <td>301500.0</td>\n",
       "      <td>308000.0</td>\n",
       "    </tr>\n",
       "  </tbody>\n",
       "</table>\n",
       "</div>"
      ],
      "text/plain": [
       "    Brand                    Name Boarding_time      Km Discharge  New_price  \\\n",
       "134    丰田  丰田86 2017款 2.0L 手动 豪华型       2017年4月  6000.0        国5   301500.0   \n",
       "\n",
       "     Sec_price  \n",
       "134   308000.0  "
      ]
     },
     "execution_count": 19,
     "metadata": {},
     "output_type": "execute_result"
    }
   ],
   "source": [
    "data.iloc[134:135,:]"
   ]
  },
  {
   "cell_type": "markdown",
   "metadata": {},
   "source": [
    "这辆车的新车价为301,500元,二手车价格竟然为308,000,不知其中是否有一些二手车手续费之类的费用.但是,为后续分析计,我们直接把这条数据删除."
   ]
  },
  {
   "cell_type": "code",
   "execution_count": 20,
   "metadata": {
    "collapsed": true
   },
   "outputs": [],
   "source": [
    "data = data.drop([134])"
   ]
  },
  {
   "cell_type": "code",
   "execution_count": 21,
   "metadata": {},
   "outputs": [
    {
     "data": {
      "text/html": [
       "<div>\n",
       "<style>\n",
       "    .dataframe thead tr:only-child th {\n",
       "        text-align: right;\n",
       "    }\n",
       "\n",
       "    .dataframe thead th {\n",
       "        text-align: left;\n",
       "    }\n",
       "\n",
       "    .dataframe tbody tr th {\n",
       "        vertical-align: top;\n",
       "    }\n",
       "</style>\n",
       "<table border=\"1\" class=\"dataframe\">\n",
       "  <thead>\n",
       "    <tr style=\"text-align: right;\">\n",
       "      <th></th>\n",
       "      <th>Brand</th>\n",
       "      <th>Name</th>\n",
       "      <th>Boarding_time</th>\n",
       "      <th>Km</th>\n",
       "      <th>Discharge</th>\n",
       "      <th>New_price</th>\n",
       "      <th>Sec_price</th>\n",
       "    </tr>\n",
       "  </thead>\n",
       "  <tbody>\n",
       "    <tr>\n",
       "      <th>133</th>\n",
       "      <td>丰田</td>\n",
       "      <td>RAV4荣放 2013款 2.0L 自动 特享精英版</td>\n",
       "      <td>2013年8月</td>\n",
       "      <td>20000.0</td>\n",
       "      <td>国4</td>\n",
       "      <td>238600.0</td>\n",
       "      <td>136000.0</td>\n",
       "    </tr>\n",
       "    <tr>\n",
       "      <th>135</th>\n",
       "      <td>丰田</td>\n",
       "      <td>丰田86 2017款 2.0L 手动 豪华型</td>\n",
       "      <td>2016年12月</td>\n",
       "      <td>6000.0</td>\n",
       "      <td>国5</td>\n",
       "      <td>301500.0</td>\n",
       "      <td>298800.0</td>\n",
       "    </tr>\n",
       "    <tr>\n",
       "      <th>136</th>\n",
       "      <td>丰田</td>\n",
       "      <td>RAV4荣放 2015款 2.0L CVT 两驱 风尚版</td>\n",
       "      <td>2015年8月</td>\n",
       "      <td>67000.0</td>\n",
       "      <td>国5</td>\n",
       "      <td>216900.0</td>\n",
       "      <td>149800.0</td>\n",
       "    </tr>\n",
       "  </tbody>\n",
       "</table>\n",
       "</div>"
      ],
      "text/plain": [
       "    Brand                          Name Boarding_time       Km Discharge  \\\n",
       "133    丰田    RAV4荣放 2013款 2.0L 自动 特享精英版       2013年8月  20000.0        国4   \n",
       "135    丰田        丰田86 2017款 2.0L 手动 豪华型      2016年12月   6000.0        国5   \n",
       "136    丰田  RAV4荣放 2015款 2.0L CVT 两驱 风尚版       2015年8月  67000.0        国5   \n",
       "\n",
       "     New_price  Sec_price  \n",
       "133   238600.0   136000.0  \n",
       "135   301500.0   298800.0  \n",
       "136   216900.0   149800.0  "
      ]
     },
     "execution_count": 21,
     "metadata": {},
     "output_type": "execute_result"
    }
   ],
   "source": [
    "data[133:136]  #第134条数据已被删除"
   ]
  },
  {
   "cell_type": "code",
   "execution_count": 23,
   "metadata": {
    "collapsed": true
   },
   "outputs": [],
   "source": [
    "#重新排列一下索引\n",
    "data = data.reset_index(drop=True)"
   ]
  },
  {
   "cell_type": "markdown",
   "metadata": {},
   "source": [
    "## 3.4 对分类型数据作标签编码处理"
   ]
  },
  {
   "cell_type": "code",
   "execution_count": 24,
   "metadata": {
    "collapsed": true
   },
   "outputs": [],
   "source": [
    "from sklearn.preprocessing import LabelEncoder  #从sklearn包导入标签编码工具,该工具将各标签从0开始编码\n",
    "\n",
    "label = LabelEncoder()\n",
    "\n",
    "for x in data:\n",
    "    data.Discharge = label.fit_transform(data.Discharge)\n",
    "\n",
    "#编码后,国2标准会变成0,为了消除影响,对每个编码后的数值加1,使得各样本下的该特征都不被后面的线性回归模型忽略\n",
    "data.Discharge = data.Discharge.apply(lambda x: x+1)"
   ]
  },
  {
   "cell_type": "code",
   "execution_count": 25,
   "metadata": {},
   "outputs": [
    {
     "data": {
      "text/html": [
       "<div>\n",
       "<style>\n",
       "    .dataframe thead tr:only-child th {\n",
       "        text-align: right;\n",
       "    }\n",
       "\n",
       "    .dataframe thead th {\n",
       "        text-align: left;\n",
       "    }\n",
       "\n",
       "    .dataframe tbody tr th {\n",
       "        vertical-align: top;\n",
       "    }\n",
       "</style>\n",
       "<table border=\"1\" class=\"dataframe\">\n",
       "  <thead>\n",
       "    <tr style=\"text-align: right;\">\n",
       "      <th></th>\n",
       "      <th>Brand</th>\n",
       "      <th>Name</th>\n",
       "      <th>Boarding_time</th>\n",
       "      <th>Km</th>\n",
       "      <th>Discharge</th>\n",
       "      <th>New_price</th>\n",
       "      <th>Sec_price</th>\n",
       "    </tr>\n",
       "  </thead>\n",
       "  <tbody>\n",
       "    <tr>\n",
       "      <th>533</th>\n",
       "      <td>雪佛兰</td>\n",
       "      <td>迈锐宝 2013款 2.0L 手自一体 豪华版</td>\n",
       "      <td>2013年3月</td>\n",
       "      <td>52800.0</td>\n",
       "      <td>4</td>\n",
       "      <td>197400.0</td>\n",
       "      <td>100000.0</td>\n",
       "    </tr>\n",
       "    <tr>\n",
       "      <th>400</th>\n",
       "      <td>马自达</td>\n",
       "      <td>马自达6 2013款 2.0L 手动型</td>\n",
       "      <td>2013年11月</td>\n",
       "      <td>30000.0</td>\n",
       "      <td>6</td>\n",
       "      <td>140900.0</td>\n",
       "      <td>78100.0</td>\n",
       "    </tr>\n",
       "    <tr>\n",
       "      <th>2</th>\n",
       "      <td>宝马</td>\n",
       "      <td>宝马3系(进口) 2012款 四门轿车 318i 2.0L A/MT</td>\n",
       "      <td>2011年12月</td>\n",
       "      <td>70000.0</td>\n",
       "      <td>4</td>\n",
       "      <td>377700.0</td>\n",
       "      <td>136000.0</td>\n",
       "    </tr>\n",
       "  </tbody>\n",
       "</table>\n",
       "</div>"
      ],
      "text/plain": [
       "    Brand                                Name Boarding_time       Km  \\\n",
       "533   雪佛兰             迈锐宝 2013款 2.0L 手自一体 豪华版       2013年3月  52800.0   \n",
       "400   马自达                 马自达6 2013款 2.0L 手动型      2013年11月  30000.0   \n",
       "2      宝马  宝马3系(进口) 2012款 四门轿车 318i 2.0L A/MT      2011年12月  70000.0   \n",
       "\n",
       "     Discharge  New_price  Sec_price  \n",
       "533          4   197400.0   100000.0  \n",
       "400          6   140900.0    78100.0  \n",
       "2            4   377700.0   136000.0  "
      ]
     },
     "execution_count": 25,
     "metadata": {},
     "output_type": "execute_result"
    }
   ],
   "source": [
    "data.sample(3)  #可以看到,Discharge现在都是纯数字"
   ]
  },
  {
   "cell_type": "markdown",
   "metadata": {},
   "source": [
    "## 3.5 处理中文型日期"
   ]
  },
  {
   "cell_type": "code",
   "execution_count": 26,
   "metadata": {
    "collapsed": true
   },
   "outputs": [],
   "source": [
    "#先构造一个字符串方法,拼接字符,只保留数字,去除\"年\"和\"月\",把类似2012年12月变成2012-12-1\n",
    "data.Boarding_time = data.Boarding_time.map(lambda x:str(x)[:4] +'-'+str(x)[5:-1]+'-'+str(1))"
   ]
  },
  {
   "cell_type": "code",
   "execution_count": 27,
   "metadata": {},
   "outputs": [
    {
     "data": {
      "text/html": [
       "<div>\n",
       "<style>\n",
       "    .dataframe thead tr:only-child th {\n",
       "        text-align: right;\n",
       "    }\n",
       "\n",
       "    .dataframe thead th {\n",
       "        text-align: left;\n",
       "    }\n",
       "\n",
       "    .dataframe tbody tr th {\n",
       "        vertical-align: top;\n",
       "    }\n",
       "</style>\n",
       "<table border=\"1\" class=\"dataframe\">\n",
       "  <thead>\n",
       "    <tr style=\"text-align: right;\">\n",
       "      <th></th>\n",
       "      <th>Brand</th>\n",
       "      <th>Name</th>\n",
       "      <th>Boarding_time</th>\n",
       "      <th>Km</th>\n",
       "      <th>Discharge</th>\n",
       "      <th>New_price</th>\n",
       "      <th>Sec_price</th>\n",
       "    </tr>\n",
       "  </thead>\n",
       "  <tbody>\n",
       "    <tr>\n",
       "      <th>382</th>\n",
       "      <td>马自达</td>\n",
       "      <td>马自达5 2011款 2.0L 自动 豪华型</td>\n",
       "      <td>2010-7-1</td>\n",
       "      <td>60000.0</td>\n",
       "      <td>4</td>\n",
       "      <td>208200.0</td>\n",
       "      <td>98000.0</td>\n",
       "    </tr>\n",
       "  </tbody>\n",
       "</table>\n",
       "</div>"
      ],
      "text/plain": [
       "    Brand                    Name Boarding_time       Km  Discharge  \\\n",
       "382   马自达  马自达5 2011款 2.0L 自动 豪华型      2010-7-1  60000.0          4   \n",
       "\n",
       "     New_price  Sec_price  \n",
       "382   208200.0    98000.0  "
      ]
     },
     "execution_count": 27,
     "metadata": {},
     "output_type": "execute_result"
    }
   ],
   "source": [
    "data.sample(1)"
   ]
  },
  {
   "cell_type": "code",
   "execution_count": 28,
   "metadata": {},
   "outputs": [
    {
     "name": "stdout",
     "output_type": "stream",
     "text": [
      "<class 'pandas.core.frame.DataFrame'>\n",
      "RangeIndex: 556 entries, 0 to 555\n",
      "Data columns (total 7 columns):\n",
      "Brand            556 non-null object\n",
      "Name             556 non-null object\n",
      "Boarding_time    556 non-null object\n",
      "Km               556 non-null float64\n",
      "Discharge        556 non-null int64\n",
      "New_price        556 non-null float64\n",
      "Sec_price        556 non-null float64\n",
      "dtypes: float64(3), int64(1), object(3)\n",
      "memory usage: 30.5+ KB\n"
     ]
    }
   ],
   "source": [
    "data.info()"
   ]
  },
  {
   "cell_type": "markdown",
   "metadata": {},
   "source": [
    "#### Boarding_time,即上牌日期现在是一个类似标准日期的字符串,'2009-8-1',下面使用pandas的Timestamp()方法转换成真正的日期格式"
   ]
  },
  {
   "cell_type": "code",
   "execution_count": 29,
   "metadata": {
    "collapsed": true,
    "scrolled": true
   },
   "outputs": [],
   "source": [
    "data.Boarding_time = data.Boarding_time.map(lambda x:pd.Timestamp(x))"
   ]
  },
  {
   "cell_type": "code",
   "execution_count": 30,
   "metadata": {},
   "outputs": [
    {
     "data": {
      "text/html": [
       "<div>\n",
       "<style>\n",
       "    .dataframe thead tr:only-child th {\n",
       "        text-align: right;\n",
       "    }\n",
       "\n",
       "    .dataframe thead th {\n",
       "        text-align: left;\n",
       "    }\n",
       "\n",
       "    .dataframe tbody tr th {\n",
       "        vertical-align: top;\n",
       "    }\n",
       "</style>\n",
       "<table border=\"1\" class=\"dataframe\">\n",
       "  <thead>\n",
       "    <tr style=\"text-align: right;\">\n",
       "      <th></th>\n",
       "      <th>Brand</th>\n",
       "      <th>Name</th>\n",
       "      <th>Boarding_time</th>\n",
       "      <th>Km</th>\n",
       "      <th>Discharge</th>\n",
       "      <th>New_price</th>\n",
       "      <th>Sec_price</th>\n",
       "    </tr>\n",
       "  </thead>\n",
       "  <tbody>\n",
       "    <tr>\n",
       "      <th>244</th>\n",
       "      <td>马自达</td>\n",
       "      <td>马自达6 2007款 2.0L 手自一体超豪华型</td>\n",
       "      <td>2007-05-01</td>\n",
       "      <td>76000.0</td>\n",
       "      <td>4</td>\n",
       "      <td>216900.0</td>\n",
       "      <td>42000.0</td>\n",
       "    </tr>\n",
       "  </tbody>\n",
       "</table>\n",
       "</div>"
      ],
      "text/plain": [
       "    Brand                      Name Boarding_time       Km  Discharge  \\\n",
       "244   马自达  马自达6 2007款 2.0L 手自一体超豪华型    2007-05-01  76000.0          4   \n",
       "\n",
       "     New_price  Sec_price  \n",
       "244   216900.0    42000.0  "
      ]
     },
     "execution_count": 30,
     "metadata": {},
     "output_type": "execute_result"
    }
   ],
   "source": [
    "data.sample(1)"
   ]
  },
  {
   "cell_type": "markdown",
   "metadata": {},
   "source": [
    "## 3.6 创建新特征"
   ]
  },
  {
   "cell_type": "markdown",
   "metadata": {},
   "source": [
    "#### 根据上牌日期,创建一个新特征,例如以2002-01-01作为基准,计算中间的日期数,则对于各款车来说,这个日期数越大,说明车越新,相应地,其价格应该越高."
   ]
  },
  {
   "cell_type": "code",
   "execution_count": 31,
   "metadata": {
    "collapsed": true
   },
   "outputs": [],
   "source": [
    "#创建基准日期\n",
    "data['day_base'] = pd.Timestamp('20020101')"
   ]
  },
  {
   "cell_type": "code",
   "execution_count": 32,
   "metadata": {
    "collapsed": true
   },
   "outputs": [],
   "source": [
    "#创建新特征,计算日期数\n",
    "data['Board_days'] = (data.Boarding_time - data.day_base).dt.days"
   ]
  },
  {
   "cell_type": "code",
   "execution_count": 33,
   "metadata": {},
   "outputs": [
    {
     "data": {
      "text/html": [
       "<div>\n",
       "<style>\n",
       "    .dataframe thead tr:only-child th {\n",
       "        text-align: right;\n",
       "    }\n",
       "\n",
       "    .dataframe thead th {\n",
       "        text-align: left;\n",
       "    }\n",
       "\n",
       "    .dataframe tbody tr th {\n",
       "        vertical-align: top;\n",
       "    }\n",
       "</style>\n",
       "<table border=\"1\" class=\"dataframe\">\n",
       "  <thead>\n",
       "    <tr style=\"text-align: right;\">\n",
       "      <th></th>\n",
       "      <th>Brand</th>\n",
       "      <th>Name</th>\n",
       "      <th>Boarding_time</th>\n",
       "      <th>Km</th>\n",
       "      <th>Discharge</th>\n",
       "      <th>New_price</th>\n",
       "      <th>Sec_price</th>\n",
       "      <th>day_base</th>\n",
       "      <th>Board_days</th>\n",
       "    </tr>\n",
       "  </thead>\n",
       "  <tbody>\n",
       "    <tr>\n",
       "      <th>463</th>\n",
       "      <td>起亚</td>\n",
       "      <td>狮跑 2013款 2.0L 手动 两驱 GLS</td>\n",
       "      <td>2013-10-01</td>\n",
       "      <td>70600.0</td>\n",
       "      <td>4</td>\n",
       "      <td>134400.0</td>\n",
       "      <td>79000.0</td>\n",
       "      <td>2002-01-01</td>\n",
       "      <td>4291</td>\n",
       "    </tr>\n",
       "    <tr>\n",
       "      <th>239</th>\n",
       "      <td>马自达</td>\n",
       "      <td>阿特兹 2015款 2.0L 蓝天尊贵版</td>\n",
       "      <td>2016-01-01</td>\n",
       "      <td>12000.0</td>\n",
       "      <td>6</td>\n",
       "      <td>223400.0</td>\n",
       "      <td>155000.0</td>\n",
       "      <td>2002-01-01</td>\n",
       "      <td>5113</td>\n",
       "    </tr>\n",
       "    <tr>\n",
       "      <th>418</th>\n",
       "      <td>马自达</td>\n",
       "      <td>马自达6 2008款 轿跑 2.0L 豪华型</td>\n",
       "      <td>2008-10-01</td>\n",
       "      <td>68000.0</td>\n",
       "      <td>2</td>\n",
       "      <td>227700.0</td>\n",
       "      <td>48000.0</td>\n",
       "      <td>2002-01-01</td>\n",
       "      <td>2465</td>\n",
       "    </tr>\n",
       "  </tbody>\n",
       "</table>\n",
       "</div>"
      ],
      "text/plain": [
       "    Brand                     Name Boarding_time       Km  Discharge  \\\n",
       "463    起亚  狮跑 2013款 2.0L 手动 两驱 GLS    2013-10-01  70600.0          4   \n",
       "239   马自达     阿特兹 2015款 2.0L 蓝天尊贵版    2016-01-01  12000.0          6   \n",
       "418   马自达   马自达6 2008款 轿跑 2.0L 豪华型    2008-10-01  68000.0          2   \n",
       "\n",
       "     New_price  Sec_price   day_base  Board_days  \n",
       "463   134400.0    79000.0 2002-01-01        4291  \n",
       "239   223400.0   155000.0 2002-01-01        5113  \n",
       "418   227700.0    48000.0 2002-01-01        2465  "
      ]
     },
     "execution_count": 33,
     "metadata": {},
     "output_type": "execute_result"
    }
   ],
   "source": [
    "data.sample(3)"
   ]
  },
  {
   "cell_type": "markdown",
   "metadata": {},
   "source": [
    "## 3.7 删除无效的特征\n",
    "- Brand,Name 这样的品牌名称对后续的分析无用,可以删除\n",
    "- Boarding_time,day_base已经被压缩为Board_days,可以删除"
   ]
  },
  {
   "cell_type": "code",
   "execution_count": 34,
   "metadata": {
    "collapsed": true
   },
   "outputs": [],
   "source": [
    "data = data.drop(['Brand','Name','Boarding_time','day_base'],axis=1)  #在列方向删除"
   ]
  },
  {
   "cell_type": "code",
   "execution_count": 35,
   "metadata": {},
   "outputs": [
    {
     "data": {
      "text/html": [
       "<div>\n",
       "<style>\n",
       "    .dataframe thead tr:only-child th {\n",
       "        text-align: right;\n",
       "    }\n",
       "\n",
       "    .dataframe thead th {\n",
       "        text-align: left;\n",
       "    }\n",
       "\n",
       "    .dataframe tbody tr th {\n",
       "        vertical-align: top;\n",
       "    }\n",
       "</style>\n",
       "<table border=\"1\" class=\"dataframe\">\n",
       "  <thead>\n",
       "    <tr style=\"text-align: right;\">\n",
       "      <th></th>\n",
       "      <th>New_price</th>\n",
       "      <th>Km</th>\n",
       "      <th>Discharge</th>\n",
       "      <th>Board_days</th>\n",
       "      <th>Sec_price</th>\n",
       "    </tr>\n",
       "  </thead>\n",
       "  <tbody>\n",
       "    <tr>\n",
       "      <th>333</th>\n",
       "      <td>195200.0</td>\n",
       "      <td>63900.0</td>\n",
       "      <td>3</td>\n",
       "      <td>2708</td>\n",
       "      <td>48800.0</td>\n",
       "    </tr>\n",
       "    <tr>\n",
       "      <th>370</th>\n",
       "      <td>206000.0</td>\n",
       "      <td>88000.0</td>\n",
       "      <td>4</td>\n",
       "      <td>2981</td>\n",
       "      <td>62000.0</td>\n",
       "    </tr>\n",
       "    <tr>\n",
       "      <th>105</th>\n",
       "      <td>139800.0</td>\n",
       "      <td>79200.0</td>\n",
       "      <td>4</td>\n",
       "      <td>3438</td>\n",
       "      <td>56800.0</td>\n",
       "    </tr>\n",
       "  </tbody>\n",
       "</table>\n",
       "</div>"
      ],
      "text/plain": [
       "     New_price       Km  Discharge  Board_days  Sec_price\n",
       "333   195200.0  63900.0          3        2708    48800.0\n",
       "370   206000.0  88000.0          4        2981    62000.0\n",
       "105   139800.0  79200.0          4        3438    56800.0"
      ]
     },
     "execution_count": 35,
     "metadata": {},
     "output_type": "execute_result"
    }
   ],
   "source": [
    "#对剩余的特征排列顺序重新整理\n",
    "data = data.reindex(columns = ['New_price','Km','Discharge','Board_days','Sec_price'])\n",
    "data.sample(3)"
   ]
  },
  {
   "cell_type": "markdown",
   "metadata": {},
   "source": [
    "#### 通过观察,我们看到上面的各个特征,New_price的量级是10<sup>6</sup>,而Discharge的量级是10<sup>0</sup>,这种数据训练出来的线性模型具有非常大的误差,且各系数大小差距非常大.需要做归一化处理,这里我们采用(0-1)处理."
   ]
  },
  {
   "cell_type": "markdown",
   "metadata": {},
   "source": [
    "## 3.8 对数据作归一化处理,压缩到[0,1]"
   ]
  },
  {
   "cell_type": "code",
   "execution_count": 36,
   "metadata": {},
   "outputs": [
    {
     "data": {
      "text/html": [
       "<div>\n",
       "<style>\n",
       "    .dataframe thead tr:only-child th {\n",
       "        text-align: right;\n",
       "    }\n",
       "\n",
       "    .dataframe thead th {\n",
       "        text-align: left;\n",
       "    }\n",
       "\n",
       "    .dataframe tbody tr th {\n",
       "        vertical-align: top;\n",
       "    }\n",
       "</style>\n",
       "<table border=\"1\" class=\"dataframe\">\n",
       "  <thead>\n",
       "    <tr style=\"text-align: right;\">\n",
       "      <th></th>\n",
       "      <th>New_price</th>\n",
       "      <th>Km</th>\n",
       "      <th>Discharge</th>\n",
       "      <th>Board_days</th>\n",
       "      <th>Sec_price</th>\n",
       "    </tr>\n",
       "  </thead>\n",
       "  <tbody>\n",
       "    <tr>\n",
       "      <th>35</th>\n",
       "      <td>0.397111</td>\n",
       "      <td>0.163256</td>\n",
       "      <td>0.6</td>\n",
       "      <td>0.527659</td>\n",
       "      <td>0.236082</td>\n",
       "    </tr>\n",
       "    <tr>\n",
       "      <th>368</th>\n",
       "      <td>0.358338</td>\n",
       "      <td>0.417917</td>\n",
       "      <td>0.4</td>\n",
       "      <td>0.360278</td>\n",
       "      <td>0.108527</td>\n",
       "    </tr>\n",
       "    <tr>\n",
       "      <th>198</th>\n",
       "      <td>0.091485</td>\n",
       "      <td>0.285584</td>\n",
       "      <td>0.6</td>\n",
       "      <td>0.521943</td>\n",
       "      <td>0.070472</td>\n",
       "    </tr>\n",
       "    <tr>\n",
       "      <th>335</th>\n",
       "      <td>0.358338</td>\n",
       "      <td>0.372442</td>\n",
       "      <td>0.6</td>\n",
       "      <td>0.235762</td>\n",
       "      <td>0.094433</td>\n",
       "    </tr>\n",
       "    <tr>\n",
       "      <th>254</th>\n",
       "      <td>0.358338</td>\n",
       "      <td>0.386085</td>\n",
       "      <td>0.6</td>\n",
       "      <td>0.192488</td>\n",
       "      <td>0.070472</td>\n",
       "    </tr>\n",
       "  </tbody>\n",
       "</table>\n",
       "</div>"
      ],
      "text/plain": [
       "     New_price        Km  Discharge  Board_days  Sec_price\n",
       "35    0.397111  0.163256        0.6    0.527659   0.236082\n",
       "368   0.358338  0.417917        0.4    0.360278   0.108527\n",
       "198   0.091485  0.285584        0.6    0.521943   0.070472\n",
       "335   0.358338  0.372442        0.6    0.235762   0.094433\n",
       "254   0.358338  0.386085        0.6    0.192488   0.070472"
      ]
     },
     "execution_count": 36,
     "metadata": {},
     "output_type": "execute_result"
    }
   ],
   "source": [
    "data = data.apply(lambda x: (x - np.min(x))/(np.max(x)-np.min(x)))\n",
    "data.sample(5)"
   ]
  },
  {
   "cell_type": "markdown",
   "metadata": {},
   "source": [
    "### 到此数据清洗部分结束"
   ]
  },
  {
   "cell_type": "markdown",
   "metadata": {},
   "source": [
    "# 4. 数据可视化"
   ]
  },
  {
   "cell_type": "code",
   "execution_count": 38,
   "metadata": {},
   "outputs": [
    {
     "data": {
      "text/plain": [
       "Text(0.5,1,'Board_days vs Sec_price')"
      ]
     },
     "execution_count": 38,
     "metadata": {},
     "output_type": "execute_result"
    },
    {
     "data": {
      "image/png": "[encoded data removed]",
      "text/plain": [
       "<matplotlib.figure.Figure at 0x2697d0c6908>"
      ]
     },
     "metadata": {},
     "output_type": "display_data"
    }
   ],
   "source": [
    "import matplotlib.pyplot as plt\n",
    "import matplotlib.pylab as pylab\n",
    "import seaborn as sns\n",
    "\n",
    "#定制图形展示参数\n",
    "%matplotlib inline \n",
    "\n",
    "#设置子图的个数以及画布的大小\n",
    "fig,saxis = plt.subplots(2,2,figsize=(16,12))\n",
    "\n",
    "#定制配色方案\n",
    "current_palette = sns.color_palette(\"pastel\")\n",
    "\n",
    "#定制画布的主题\n",
    "current_style = sns.set_style('whitegrid')\n",
    "\n",
    "\n",
    "sns.regplot(x = 'New_price',y = 'Sec_price',data = data,ax = saxis[0,0]).set_title('New_price vs Sec_price')\n",
    "sns.regplot(x = 'Km',y = 'Sec_price',data = data,ax = saxis[0,1]).set_title('Km vs Sec_price')\n",
    "sns.barplot(x = 'Discharge',y = 'Sec_price',data = data,palette=current_palette,ax = saxis[1,0]).set_title('Discharge vd Sec_price')\n",
    "sns.regplot(x = 'Board_days',y = 'Sec_price',data = data,ax = saxis[1,1]).set_title('Board_days vs Sec_price')"
   ]
  },
  {
   "cell_type": "markdown",
   "metadata": {},
   "source": [
    "#### 上面是一个简单的数据可视化,可以看出:\n",
    "- New_price,Discharge,Board_days这三个特征和Sec_price是一种正相关\n",
    "- Km和Sec_price是一种负相关  \n",
    "\n",
    "由于数据的可用特征较少,数据分析部分就不再展开详细讨论,给出下面的**相关性热图**作为参考:"
   ]
  },
  {
   "cell_type": "code",
   "execution_count": 39,
   "metadata": {},
   "outputs": [
    {
     "data": {
      "image/png": "[encoded data removed]",
      "text/plain": [
       "<matplotlib.figure.Figure at 0x2697abaf5c0>"
      ]
     },
     "metadata": {},
     "output_type": "display_data"
    }
   ],
   "source": [
    "#相关性heatmap\n",
    "def correlation_heatmap(df):\n",
    "    _ , ax = plt.subplots(figsize = (10,8))\n",
    "    colormap = sns.diverging_palette(220,10,as_cmap = True)\n",
    "    \n",
    "    _ = sns.heatmap(df.corr(),cmap=colormap,square=True,cbar_kws={'shrink':0.9},ax=ax,annot=True,linewidths=0.1,vmax=1.0,linecolor='white',annot_kws={'fontsize':12})\n",
    "    plt.title(\"Pearson Correlation of Features\", y = 1.05, size = 15)\n",
    "    \n",
    "correlation_heatmap(data)"
   ]
  },
  {
   "cell_type": "markdown",
   "metadata": {},
   "source": [
    "# 5. 训练线性回归模型"
   ]
  },
  {
   "cell_type": "markdown",
   "metadata": {},
   "source": [
    "#### 我们将使用4个特征: New_price, Km, Discharge, Board_days\n",
    "模型的方程为: **Sec_price = W<sub>0</sub>\\*New_price + W<sub>1</sub>\\*Km + W<sub>2</sub>\\*Discharge + W<sub>3</sub>\\*Board_days**"
   ]
  },
  {
   "cell_type": "code",
   "execution_count": 40,
   "metadata": {
    "collapsed": true
   },
   "outputs": [],
   "source": [
    "#分割数据集,80%的数据作为训练集\n",
    "from sklearn.model_selection import train_test_split\n",
    "\n",
    "dataMat = data.iloc[:,:-1];labelMat = data.iloc[:,-1]\n",
    "\n",
    "train_x,test_x,train_y,test_y = train_test_split(dataMat,labelMat,test_size = 0.2,random_state=42)"
   ]
  },
  {
   "cell_type": "code",
   "execution_count": 41,
   "metadata": {},
   "outputs": [
    {
     "name": "stdout",
     "output_type": "stream",
     "text": [
      "[[ 0.42305123]\n",
      " [-0.29257494]\n",
      " [ 0.04747121]\n",
      " [ 0.2644909 ]]\n"
     ]
    }
   ],
   "source": [
    "def standRegres(xArr,yArr):\n",
    "    '''\n",
    "    线性回归函数\n",
    "    Args:\n",
    "        xArr：输入的样本数据，包含每个样本的特征，就是上面的dataMat内容\n",
    "        yArr：输入的样本标签，包含每个样本的标签，就是上面的labelMat内容\n",
    "    Returns：\n",
    "        w：回归系数向量\n",
    "    '''\n",
    "    #mat()函数将xArr,yArr转换为矩阵，mat().T是对应的转置操作\n",
    "    xMat = np.mat(xArr)\n",
    "    yMat = np.mat(yArr).T\n",
    "    #矩阵乘法\n",
    "    xTx = xMat.T * xMat\n",
    "    #因为要用到xTx的逆矩阵，所以需要先计算该矩阵的行列式，值不为0方可\n",
    "    #np.linalg.det()函数即是用来计算行列式的\n",
    "    if np.linalg.det(xTx) == 0.0:\n",
    "        print(\"这个矩阵是奇异的，没有逆矩阵\")\n",
    "        return\n",
    "    #否则，说明存在逆矩阵，可以接着用最小二乘法求出最后的结果，[（xTx)^-1](xT*y)\n",
    "    w = xTx.I * (xMat.T * yMat)\n",
    "    return w\n",
    "\n",
    "if __name__ == '__main__':\n",
    "    xArr,yArr = train_x,train_y\n",
    "    w = standRegres(xArr,yArr)\n",
    "    print(w)"
   ]
  },
  {
   "cell_type": "code",
   "execution_count": 42,
   "metadata": {},
   "outputs": [
    {
     "data": {
      "text/plain": [
       "LinearRegression(copy_X=True, fit_intercept=True, n_jobs=1, normalize=False)"
      ]
     },
     "execution_count": 42,
     "metadata": {},
     "output_type": "execute_result"
    }
   ],
   "source": [
    "#下面使用sklearn包训练并验证模型\n",
    "from sklearn import linear_model\n",
    "reg = linear_model.LinearRegression()\n",
    "reg.fit(xArr,yArr)"
   ]
  },
  {
   "cell_type": "code",
   "execution_count": 43,
   "metadata": {},
   "outputs": [
    {
     "data": {
      "text/plain": [
       "array([ 0.65821913, -0.01379558,  0.0600377 ,  0.46363971])"
      ]
     },
     "execution_count": 43,
     "metadata": {},
     "output_type": "execute_result"
    }
   ],
   "source": [
    "reg.coef_"
   ]
  },
  {
   "cell_type": "code",
   "execution_count": 44,
   "metadata": {},
   "outputs": [
    {
     "data": {
      "text/plain": [
       "-0.28738787250542019"
      ]
     },
     "execution_count": 44,
     "metadata": {},
     "output_type": "execute_result"
    }
   ],
   "source": [
    "reg.intercept_"
   ]
  },
  {
   "cell_type": "markdown",
   "metadata": {},
   "source": [
    "#### 由于我们的手写代码中,没分配b这项,因此求得的回归系数和sklearn算法求得的系数有所不同.  \n",
    "\n",
    "下面使用测试集验证模型的准确率"
   ]
  },
  {
   "cell_type": "code",
   "execution_count": 45,
   "metadata": {
    "collapsed": true
   },
   "outputs": [],
   "source": [
    "from sklearn.model_selection import cross_val_score\n",
    "scores = cross_val_score(reg,train_x,train_y,cv=5)"
   ]
  },
  {
   "cell_type": "code",
   "execution_count": 46,
   "metadata": {
    "scrolled": true
   },
   "outputs": [
    {
     "data": {
      "text/plain": [
       "array([ 0.896168  ,  0.89461945,  0.8411946 ,  0.819862  ,  0.8859549 ])"
      ]
     },
     "execution_count": 46,
     "metadata": {},
     "output_type": "execute_result"
    }
   ],
   "source": [
    "scores"
   ]
  },
  {
   "cell_type": "code",
   "execution_count": 47,
   "metadata": {},
   "outputs": [
    {
     "name": "stdout",
     "output_type": "stream",
     "text": [
      "accuracy:86.76% +/-9.35%\n"
     ]
    }
   ],
   "source": [
    "print('accuracy:{0:.2f}% +/-{1:.2f}%'.format(scores.mean()*100,scores.std()*300))"
   ]
  },
  {
   "cell_type": "code",
   "execution_count": 48,
   "metadata": {},
   "outputs": [
    {
     "name": "stdout",
     "output_type": "stream",
     "text": [
      "accuracy:82.61% +/-24.55%\n"
     ]
    }
   ],
   "source": [
    "scores1 = cross_val_score(reg,test_x,test_y,cv=10)\n",
    "print('accuracy:{0:.2f}% +/-{1:.2f}%'.format(scores1.mean()*100,scores1.std()*300))"
   ]
  },
  {
   "cell_type": "markdown",
   "metadata": {
    "collapsed": true
   },
   "source": [
    "#### 模型效果:\n",
    "- 在训练集上的准确率为86.76%,三个标准差置信区间浮动在+/-9.35%,最差准确率为77.41%\n",
    "- 在测试集上的准确率为82.61%,三个标准差置信区间浮动在+/-24.55%,最差准确率为58.06%\n",
    "\n",
    "可见,我们的模型有点偏向过拟合,对于过拟合,原本需要减少特征(参数)个数,降低模型复杂度.但是由于我们的数据本来只有4个特征可用,因此不宜再缩减特征.可以考虑使用局部加权线性回归,针对各特征赋予恰当的权重,平衡模型在训练集和测试集上的表现.具体实现不在此处展开."
   ]
  }
 ],
 "metadata": {
  "kernelspec": {
   "display_name": "Python 3",
   "language": "python",
   "name": "python3"
  },
  "language_info": {
   "codemirror_mode": {
    "name": "ipython",
    "version": 3
   },
   "file_extension": ".py",
   "mimetype": "text/x-python",
   "name": "python",
   "nbconvert_exporter": "python",
   "pygments_lexer": "ipython3",
   "version": "3.6.3"
  }
 },
 "nbformat": 4,
 "nbformat_minor": 2
}
